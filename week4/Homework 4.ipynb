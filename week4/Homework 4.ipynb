{
 "cells": [
  {
   "cell_type": "markdown",
   "metadata": {},
   "source": [
    "# Conditionals"
   ]
  },
  {
   "cell_type": "code",
   "execution_count": 3,
   "metadata": {},
   "outputs": [
    {
     "name": "stdout",
     "output_type": "stream",
     "text": [
      "Number of purchased pairs of shoes: 20\n",
      "You get a discount!\n"
     ]
    }
   ],
   "source": [
    "num = int(input(\"Number of purchased pairs of shoes: \"))\n",
    "if num > 10:\n",
    "    print(\"You get a discount!\")\n",
    "else:\n",
    "    print(\"You don’t get a discount\")"
   ]
  },
  {
   "cell_type": "code",
   "execution_count": 15,
   "metadata": {},
   "outputs": [
    {
     "name": "stdout",
     "output_type": "stream",
     "text": [
      "Good job!\n"
     ]
    }
   ],
   "source": [
    "d= {\"name\": \"Armen\", \"age\": 15, \"grades\": [10, 8, 8, 4, 6, 7] }\n",
    "from statistics import mean\n",
    "average = mean(d[\"grades\"])\n",
    "if average > 7:\n",
    "    print(\"Good job!\")\n",
    "else:\n",
    "    print(\"You need to work more\")"
   ]
  },
  {
   "cell_type": "markdown",
   "metadata": {},
   "source": [
    "# Loops and loop control statements"
   ]
  },
  {
   "cell_type": "code",
   "execution_count": 20,
   "metadata": {},
   "outputs": [
    {
     "name": "stdout",
     "output_type": "stream",
     "text": [
      "1\n",
      "3\n",
      "5\n",
      "7\n",
      "9\n"
     ]
    }
   ],
   "source": [
    "for i in range(0, 11):\n",
    "    if i%2 ==0 :\n",
    "      \n",
    "        continue\n",
    "\n",
    "    print(i)"
   ]
  },
  {
   "cell_type": "code",
   "execution_count": null,
   "metadata": {},
   "outputs": [],
   "source": [
    "list1 = [1, 3, 5, 7, 9, 11, 13, 15] \n",
    "list2 = [4, 6, 14, 11, 8, 16]\n",
    "\n",
    "for n in list1:\n",
    "    print('n = ',n)\n",
    "    if n in list2:\n",
    "          break\n",
    "print('stop here')   "
   ]
  },
  {
   "cell_type": "code",
   "execution_count": 1,
   "metadata": {},
   "outputs": [
    {
     "name": "stdout",
     "output_type": "stream",
     "text": [
      "The dessert of your choice: tort\n",
      "Please choose another dessert\n",
      "The dessert of your choice: ice cream\n",
      "Your desert will arrive in 10 minutes\n"
     ]
    }
   ],
   "source": [
    "menu = [\"ice cream\", \"chocolate\", \"apple crisp\", \"cookies\"]\n",
    "dessert = input(\"The dessert of your choice: \")\n",
    "\n",
    "while dessert:\n",
    "    if dessert in menu:\n",
    "        print(\"Your desert will arrive in 10 minutes\")\n",
    "        break\n",
    "    else:\n",
    "        print(\"Please choose another dessert\")\n",
    "        dessert = input(\"The dessert of your choice: \")"
   ]
  },
  {
   "cell_type": "markdown",
   "metadata": {},
   "source": [
    "# List comprehension"
   ]
  },
  {
   "cell_type": "code",
   "execution_count": 2,
   "metadata": {},
   "outputs": [
    {
     "name": "stdout",
     "output_type": "stream",
     "text": [
      "[7, 8, 6, 9]\n"
     ]
    }
   ],
   "source": [
    "num= [7,8, 120, 25, 6, 44, 20, 9, 27]\n",
    "num2 = [x for x in num if 5< x <10]\n",
    "print(num2)"
   ]
  },
  {
   "cell_type": "code",
   "execution_count": 4,
   "metadata": {},
   "outputs": [
    {
     "name": "stdout",
     "output_type": "stream",
     "text": [
      "[[10, 20, 100], [40, 50, 100], [70, 80, 100]]\n"
     ]
    }
   ],
   "source": [
    "list4 =[[10, 20, 40], [40, 50, 60], [70, 80, 90]]\n",
    "list5 = [i[0:len(i)-1] + [100] for i in list4]\n",
    "print(list5)"
   ]
  }
 ],
 "metadata": {
  "kernelspec": {
   "display_name": "Python 3",
   "language": "python",
   "name": "python3"
  },
  "language_info": {
   "codemirror_mode": {
    "name": "ipython",
    "version": 3
   },
   "file_extension": ".py",
   "mimetype": "text/x-python",
   "name": "python",
   "nbconvert_exporter": "python",
   "pygments_lexer": "ipython3",
   "version": "3.7.3"
  }
 },
 "nbformat": 4,
 "nbformat_minor": 2
}
