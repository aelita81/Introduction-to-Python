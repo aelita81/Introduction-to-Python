{
 "cells": [
  {
   "cell_type": "code",
   "execution_count": 8,
   "metadata": {},
   "outputs": [
    {
     "name": "stdout",
     "output_type": "stream",
     "text": [
      "Script name: problem1.py\n",
      "Number of arguments: 3\n",
      "Argument values: ['1', 'asd', 'True']\n"
     ]
    }
   ],
   "source": [
    "run problem1.py 1 \"asd\" True"
   ]
  },
  {
   "cell_type": "code",
   "execution_count": 39,
   "metadata": {},
   "outputs": [
    {
     "name": "stdout",
     "output_type": "stream",
     "text": [
      "Welcome, Aelita!\n"
     ]
    }
   ],
   "source": [
    "run problem3.py Aelita"
   ]
  },
  {
   "cell_type": "code",
   "execution_count": 40,
   "metadata": {},
   "outputs": [
    {
     "name": "stdout",
     "output_type": "stream",
     "text": [
      " “Happy Birthday, you are already 5 years old!\n"
     ]
    }
   ],
   "source": [
    "run problem4.py --age=5"
   ]
  },
  {
   "cell_type": "code",
   "execution_count": 1,
   "metadata": {},
   "outputs": [
    {
     "name": "stdout",
     "output_type": "stream",
     "text": [
      "A sAmpLe stRING\n",
      "a sample string\n",
      "A SAMPLE STRING\n"
     ]
    }
   ],
   "source": [
    "run problem5.py \"A sAmpLe stRING\""
   ]
  },
  {
   "cell_type": "code",
   "execution_count": 16,
   "metadata": {},
   "outputs": [
    {
     "name": "stdout",
     "output_type": "stream",
     "text": [
      "The given text: abbbbbaaaaaaaeaa\n",
      "The # of a:  10\n",
      "The # of b:  5\n",
      "The # of c:  0\n",
      "The # of d:  0\n",
      "The # of e:  1\n"
     ]
    }
   ],
   "source": [
    "run problem6.py"
   ]
  },
  {
   "cell_type": "code",
   "execution_count": 15,
   "metadata": {},
   "outputs": [
    {
     "name": "stdout",
     "output_type": "stream",
     "text": [
      "How are you Aelita?\n",
      "How are you Aelita?\n"
     ]
    }
   ],
   "source": [
    "run problem7.py"
   ]
  },
  {
   "cell_type": "code",
   "execution_count": 22,
   "metadata": {},
   "outputs": [
    {
     "name": "stdout",
     "output_type": "stream",
     "text": [
      "Hi, where are you from? I’m from  Armenia .​ How long have you lived here? For  10  years\n"
     ]
    }
   ],
   "source": [
    "run problem8.py"
   ]
  },
  {
   "cell_type": "code",
   "execution_count": 7,
   "metadata": {},
   "outputs": [
    {
     "name": "stdout",
     "output_type": "stream",
     "text": [
      "The given text: Thisisasampletext\n",
      "start_index: 3\n",
      "end_index: 11\n",
      "sisasamp\n"
     ]
    }
   ],
   "source": [
    "run problem9.py \"Thisisasampletext\" 3 11"
   ]
  },
  {
   "cell_type": "code",
   "execution_count": 44,
   "metadata": {},
   "outputs": [],
   "source": [
    "import datetime"
   ]
  },
  {
   "cell_type": "code",
   "execution_count": 45,
   "metadata": {},
   "outputs": [
    {
     "name": "stdout",
     "output_type": "stream",
     "text": [
      "Current date and time = 2019-10-27 11:29:01.162402\n"
     ]
    }
   ],
   "source": [
    "from datetime import datetime\n",
    "now = datetime.now()\n",
    " \n",
    "print(\"Current date and time =\", now)"
   ]
  },
  {
   "cell_type": "code",
   "execution_count": 46,
   "metadata": {},
   "outputs": [
    {
     "name": "stdout",
     "output_type": "stream",
     "text": [
      "Year:  2019\n"
     ]
    }
   ],
   "source": [
    "import datetime\n",
    "tday = datetime.date.today()\n",
    "print('Year: ', tday.year)"
   ]
  },
  {
   "cell_type": "code",
   "execution_count": 47,
   "metadata": {},
   "outputs": [
    {
     "name": "stdout",
     "output_type": "stream",
     "text": [
      "Month:  10\n"
     ]
    }
   ],
   "source": [
    "print('Month: ', tday.month)"
   ]
  },
  {
   "cell_type": "code",
   "execution_count": 48,
   "metadata": {},
   "outputs": [
    {
     "name": "stdout",
     "output_type": "stream",
     "text": [
      "Day of the week (version 1):  7\n"
     ]
    }
   ],
   "source": [
    "print('Day of the week (version 1): ', tday.isoweekday())"
   ]
  },
  {
   "cell_type": "code",
   "execution_count": 54,
   "metadata": {},
   "outputs": [
    {
     "name": "stdout",
     "output_type": "stream",
     "text": [
      "Date and Time:  2019-10-27 12:11:26.100000\n",
      "- 5 days:  2019-10-22 12:11:26.100000\n",
      "+ 5 days:  2019-11-01 12:11:26.100000\n"
     ]
    }
   ],
   "source": [
    "import datetime\n",
    "dt = datetime.datetime(2019, 10, 27, 12, 11, 26, 100000)\n",
    "tdelta = datetime.timedelta(days = 5)\n",
    "print('Date and Time: ', dt)\n",
    "print('- 5 days: ', dt - tdelta)\n",
    "print('+ 5 days: ', dt + tdelta)"
   ]
  },
  {
   "cell_type": "code",
   "execution_count": null,
   "metadata": {},
   "outputs": [],
   "source": []
  }
 ],
 "metadata": {
  "kernelspec": {
   "display_name": "Python 3",
   "language": "python",
   "name": "python3"
  },
  "language_info": {
   "codemirror_mode": {
    "name": "ipython",
    "version": 3
   },
   "file_extension": ".py",
   "mimetype": "text/x-python",
   "name": "python",
   "nbconvert_exporter": "python",
   "pygments_lexer": "ipython3",
   "version": "3.7.3"
  }
 },
 "nbformat": 4,
 "nbformat_minor": 2
}
