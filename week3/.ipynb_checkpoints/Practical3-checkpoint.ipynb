{
 "cells": [
  {
   "cell_type": "code",
   "execution_count": 4,
   "metadata": {},
   "outputs": [
    {
     "name": "stdout",
     "output_type": "stream",
     "text": [
      "['2,', '3,', 'a']\n",
      "['hello', 1, True, 'hello', 1, True]\n",
      "['hello', 1, True, [...]]\n"
     ]
    }
   ],
   "source": [
    "run PR3_1 2, 3, \"a\""
   ]
  },
  {
   "cell_type": "code",
   "execution_count": 9,
   "metadata": {},
   "outputs": [
    {
     "name": "stdout",
     "output_type": "stream",
     "text": [
      "[]\n",
      "list1:  ['hello', 1, True]\n",
      "list2:  ['hello', 1, True]\n",
      "list1:  ['hello', 1, True]\n",
      "list2:  ['hello', 1, True, 4, 5, 6, 'a']\n"
     ]
    }
   ],
   "source": [
    "run PR3_2"
   ]
  },
  {
   "cell_type": "code",
   "execution_count": 25,
   "metadata": {},
   "outputs": [
    {
     "name": "stdout",
     "output_type": "stream",
     "text": [
      "list2 = [0, 'hi', 2, 100, 300, 2]\n",
      "Number os 2s = 2\n"
     ]
    }
   ],
   "source": [
    "run PR3_3 2"
   ]
  },
  {
   "cell_type": "code",
   "execution_count": 33,
   "metadata": {},
   "outputs": [
    {
     "name": "stdout",
     "output_type": "stream",
     "text": [
      "List before the change: [0, 4, 10, 'a', 2, 1300, 2]\n",
      "List after the change: = [0, 4, 10, 'a', 1300, 2]\n"
     ]
    }
   ],
   "source": [
    "run PR3_4 2"
   ]
  },
  {
   "cell_type": "code",
   "execution_count": 54,
   "metadata": {},
   "outputs": [
    {
     "name": "stdout",
     "output_type": "stream",
     "text": [
      "List before the change: [0, 4, 10, 'a', 2, 1300, 2]\n"
     ]
    },
    {
     "ename": "TypeError",
     "evalue": "'builtin_function_or_method' object is not subscriptable",
     "output_type": "error",
     "traceback": [
      "\u001b[1;31m---------------------------------------------------------------------------\u001b[0m",
      "\u001b[1;31mTypeError\u001b[0m                                 Traceback (most recent call last)",
      "\u001b[1;32m~\\Desktop\\Introduction-to-Python\\week3\\PR3_5.py\u001b[0m in \u001b[0;36m<module>\u001b[1;34m\u001b[0m\n\u001b[0;32m      5\u001b[0m \u001b[0mlist5\u001b[0m \u001b[1;33m=\u001b[0m \u001b[1;33m[\u001b[0m\u001b[1;36m0\u001b[0m\u001b[1;33m,\u001b[0m \u001b[1;36m4\u001b[0m\u001b[1;33m,\u001b[0m \u001b[1;36m10\u001b[0m\u001b[1;33m,\u001b[0m \u001b[1;34m\"a\"\u001b[0m\u001b[1;33m,\u001b[0m \u001b[1;36m2\u001b[0m\u001b[1;33m,\u001b[0m \u001b[1;36m1300\u001b[0m\u001b[1;33m,\u001b[0m \u001b[1;36m2\u001b[0m\u001b[1;33m]\u001b[0m\u001b[1;33m\u001b[0m\u001b[1;33m\u001b[0m\u001b[0m\n\u001b[0;32m      6\u001b[0m \u001b[0mprint\u001b[0m \u001b[1;33m(\u001b[0m\u001b[1;34m\"List before the change:\"\u001b[0m\u001b[1;33m,\u001b[0m \u001b[0mlist5\u001b[0m\u001b[1;33m)\u001b[0m\u001b[1;33m\u001b[0m\u001b[1;33m\u001b[0m\u001b[0m\n\u001b[1;32m----> 7\u001b[1;33m \u001b[0mlist5\u001b[0m\u001b[1;33m.\u001b[0m\u001b[0mpop\u001b[0m \u001b[1;33m[\u001b[0m\u001b[1;36m5\u001b[0m\u001b[1;33m,\u001b[0m\u001b[1;36m4\u001b[0m\u001b[1;33m,\u001b[0m\u001b[1;36m0\u001b[0m\u001b[1;33m]\u001b[0m\u001b[1;33m\u001b[0m\u001b[1;33m\u001b[0m\u001b[0m\n\u001b[0m\u001b[0;32m      8\u001b[0m \u001b[0mprint\u001b[0m\u001b[1;33m(\u001b[0m\u001b[1;34m\"List after the change: =\"\u001b[0m\u001b[1;33m,\u001b[0m \u001b[0mlist5\u001b[0m\u001b[1;33m)\u001b[0m\u001b[1;33m\u001b[0m\u001b[1;33m\u001b[0m\u001b[0m\n",
      "\u001b[1;31mTypeError\u001b[0m: 'builtin_function_or_method' object is not subscriptable"
     ]
    }
   ],
   "source": [
    "run PR3_5"
   ]
  },
  {
   "cell_type": "code",
   "execution_count": 69,
   "metadata": {
    "scrolled": true
   },
   "outputs": [
    {
     "name": "stdout",
     "output_type": "stream",
     "text": [
      "[]\n",
      "list1:  [0, 4, 10, 'a', 2, 1300, 2]\n",
      "list2:  [4, 10, 'a', 2]\n"
     ]
    }
   ],
   "source": [
    "run PR3_6"
   ]
  },
  {
   "cell_type": "code",
   "execution_count": 84,
   "metadata": {},
   "outputs": [
    {
     "name": "stdout",
     "output_type": "stream",
     "text": [
      "[3, 7, 1, 4, 5, 9, 11, 3, 4, 'Steve', 'Alice', 'Jane', 'David']\n"
     ]
    }
   ],
   "source": [
    "l1 = [3, 7, 1, 4, 5, 9, 11, 3, 4, 7]\n",
    "l2 = ['Steve', 'Alice', 'Jane', 'David']\n",
    "l1.pop(-1)\n",
    "l3=l1+l2\n",
    "print(l3)"
   ]
  },
  {
   "cell_type": "code",
   "execution_count": 94,
   "metadata": {},
   "outputs": [
    {
     "name": "stdout",
     "output_type": "stream",
     "text": [
      "Set1 before the change:  {0, 2, 4, 'a', 10, 1300}\n",
      "Set2 before the change: {0, 2, 4, 1300, 'a', 10}\n",
      "Set1 after the change: = {0, 2, 4, 'a', 10, 1300}\n",
      "Set2 after the change:  {0, 400, 2, 4, 1300, 'a', 10}\n"
     ]
    }
   ],
   "source": [
    "run PR3_7  400"
   ]
  },
  {
   "cell_type": "code",
   "execution_count": 110,
   "metadata": {
    "scrolled": true
   },
   "outputs": [
    {
     "name": "stdout",
     "output_type": "stream",
     "text": [
      "set2 before the change:  {0, 2, 4, 'a', 10, 1300}\n",
      "set2 after the change:  {0, 2, 4, 'a', 10}\n"
     ]
    }
   ],
   "source": [
    "run PR3_8 1300"
   ]
  },
  {
   "cell_type": "code",
   "execution_count": 111,
   "metadata": {},
   "outputs": [
    {
     "name": "stdout",
     "output_type": "stream",
     "text": [
      "set2 before the change:  {0, 2, 4, 'a', 10, 1300}\n",
      "set2 after the change:  {0, 2, 4, 'a', 10, 1300}\n"
     ]
    }
   ],
   "source": [
    "run PR3_9 5"
   ]
  },
  {
   "cell_type": "code",
   "execution_count": 122,
   "metadata": {},
   "outputs": [
    {
     "name": "stdout",
     "output_type": "stream",
     "text": [
      "{2400, 1, 3, 4, 6, 'a', 10, 25, 'name'}\n",
      "{1, 3}\n"
     ]
    }
   ],
   "source": [
    "set1 = {1, 3, 10, \"a\", 2400}\n",
    "set2 = {4, 6, 25, \"name\", 3, 1}\n",
    "print (set2.union(set1))\n",
    "print (set1.intersection(set2))"
   ]
  },
  {
   "cell_type": "code",
   "execution_count": 126,
   "metadata": {},
   "outputs": [
    {
     "name": "stdout",
     "output_type": "stream",
     "text": [
      "False\n"
     ]
    }
   ],
   "source": [
    "run PR3_10 5000"
   ]
  },
  {
   "cell_type": "code",
   "execution_count": 138,
   "metadata": {},
   "outputs": [
    {
     "name": "stdout",
     "output_type": "stream",
     "text": [
      "25\n",
      "10\n"
     ]
    }
   ],
   "source": [
    "x = (1, 10, 15, 20, 25)\n",
    "print (x[4]) \n",
    "print (x[-4])"
   ]
  },
  {
   "cell_type": "code",
   "execution_count": null,
   "metadata": {},
   "outputs": [],
   "source": []
  }
 ],
 "metadata": {
  "kernelspec": {
   "display_name": "Python 3",
   "language": "python",
   "name": "python3"
  },
  "language_info": {
   "codemirror_mode": {
    "name": "ipython",
    "version": 3
   },
   "file_extension": ".py",
   "mimetype": "text/x-python",
   "name": "python",
   "nbconvert_exporter": "python",
   "pygments_lexer": "ipython3",
   "version": "3.7.3"
  }
 },
 "nbformat": 4,
 "nbformat_minor": 2
}
