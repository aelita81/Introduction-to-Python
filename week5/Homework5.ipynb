{
 "cells": [
  {
   "cell_type": "code",
   "execution_count": 7,
   "metadata": {},
   "outputs": [
    {
     "name": "stdout",
     "output_type": "stream",
     "text": [
      "95\n"
     ]
    }
   ],
   "source": [
    "def maximum(nums):\n",
    "    Max = 0\n",
    "    for item in nums:\n",
    "        if item > Max:\n",
    "            Max=item\n",
    "    return Max\n",
    "\n",
    "List = [1,5,8,77,24,95]\n",
    "print (maximum(List))"
   ]
  },
  {
   "cell_type": "code",
   "execution_count": 26,
   "metadata": {},
   "outputs": [
    {
     "name": "stdout",
     "output_type": "stream",
     "text": [
      "{1, 33, 5, 10, 22}\n"
     ]
    }
   ],
   "source": [
    "def list1(nums):\n",
    "    return set(nums)\n",
    "\n",
    "nums = [1, 5, 10, 22, 10, 33, 5]\n",
    "print (list1(nums))"
   ]
  },
  {
   "cell_type": "code",
   "execution_count": 16,
   "metadata": {},
   "outputs": [
    {
     "name": "stdout",
     "output_type": "stream",
     "text": [
      "Before function call\n",
      "Inside the function\n",
      "After th function call\n"
     ]
    }
   ],
   "source": [
    "def decor(fn):\n",
    "    def wrapped(*args):       \n",
    "        print(\"Before function call\")\n",
    "        print(fn(*args))\n",
    "        print(\"After th function call\")\n",
    "    return wrapped\n",
    "\n",
    "@decor\n",
    "def add_string():\n",
    "    return \"Inside the function\"\n",
    "\n",
    "add_string()"
   ]
  },
  {
   "cell_type": "code",
   "execution_count": 24,
   "metadata": {},
   "outputs": [
    {
     "data": {
      "text/plain": [
       "'<u> Hi, it’s me! </u>'"
      ]
     },
     "execution_count": 24,
     "metadata": {},
     "output_type": "execute_result"
    }
   ],
   "source": [
    "def decor1(fn):\n",
    "    def wrapped(*args):       \n",
    "        return fn(*args) + \", it’s me!\"\n",
    "    return wrapped\n",
    "\n",
    "def decor2(fn):\n",
    "    def wrapped(*args):       \n",
    "        return \"<u> \"+ fn(*args) + \" </u>\"\n",
    "    return wrapped\n",
    "\n",
    "@decor2\n",
    "@decor1\n",
    "def func():\n",
    "    return \"Hi\"\n",
    "\n",
    "func()"
   ]
  },
  {
   "cell_type": "code",
   "execution_count": 16,
   "metadata": {},
   "outputs": [],
   "source": [
    "def my_range(n):\n",
    "     for i in range (n+2):\n",
    "        if i == n+1:\n",
    "            print(\"there are no values left\")\n",
    "            break\n",
    "        else:\n",
    "            yield i\n",
    "        \n",
    "my_num = my_range(2)"
   ]
  },
  {
   "cell_type": "code",
   "execution_count": 17,
   "metadata": {},
   "outputs": [
    {
     "data": {
      "text/plain": [
       "0"
      ]
     },
     "execution_count": 17,
     "metadata": {},
     "output_type": "execute_result"
    }
   ],
   "source": [
    "next(my_num)"
   ]
  },
  {
   "cell_type": "code",
   "execution_count": null,
   "metadata": {},
   "outputs": [],
   "source": []
  },
  {
   "cell_type": "code",
   "execution_count": null,
   "metadata": {},
   "outputs": [],
   "source": []
  }
 ],
 "metadata": {
  "kernelspec": {
   "display_name": "Python 3",
   "language": "python",
   "name": "python3"
  },
  "language_info": {
   "codemirror_mode": {
    "name": "ipython",
    "version": 3
   },
   "file_extension": ".py",
   "mimetype": "text/x-python",
   "name": "python",
   "nbconvert_exporter": "python",
   "pygments_lexer": "ipython3",
   "version": "3.7.3"
  }
 },
 "nbformat": 4,
 "nbformat_minor": 2
}
