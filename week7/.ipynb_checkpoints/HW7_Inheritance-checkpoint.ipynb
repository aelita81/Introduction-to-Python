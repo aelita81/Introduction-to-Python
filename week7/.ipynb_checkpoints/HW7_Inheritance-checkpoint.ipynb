{
 "cells": [
  {
   "cell_type": "code",
   "execution_count": 6,
   "metadata": {},
   "outputs": [
    {
     "name": "stdout",
     "output_type": "stream",
     "text": [
      "8\n",
      "-2\n",
      "15\n",
      "0.6\n"
     ]
    }
   ],
   "source": [
    "class Calculation():\n",
    "    def __init__(self, x, y):\n",
    "        self.x = x\n",
    "        self.y = y\n",
    "\n",
    "    def addition (self):\n",
    "        print (self.x + self.y)\n",
    "\n",
    "    def subtraction (self):\n",
    "        print (self.x - self.y)\n",
    "\n",
    "class MyCalculation(Calculation):\n",
    "    def __init__(self, x, y):\n",
    "        super().__init__(x, y)\n",
    "            \n",
    "    def multiplication(self):\n",
    "        print(self.x * self.y)\n",
    "        \n",
    "    def division(self):\n",
    "        print(self.x / self.y)\n",
    "\n",
    "c = MyCalculation(3,5)\n",
    "c.addition()\n",
    "c.subtraction()\n",
    "c.multiplication()\n",
    "c.division()"
   ]
  },
  {
   "cell_type": "code",
   "execution_count": 9,
   "metadata": {},
   "outputs": [
    {
     "name": "stdout",
     "output_type": "stream",
     "text": [
      "The current date is 12 PM\n",
      "The current time is 13.03.2013\n"
     ]
    }
   ],
   "source": [
    "class My_Time():\n",
    "    def __init__(self, t):\n",
    "        self.t = t\n",
    "\n",
    "    def printTime (self):\n",
    "        print (\"The current time is \" + self.t)\n",
    "\n",
    "class My_Date():\n",
    "    def __init__(self, d):\n",
    "        self.d = d\n",
    "        \n",
    "    def printDate (self):\n",
    "        print (\"The current date is \" + self.d)\n",
    "\n",
    "class Date_Time (My_Time, My_Date):\n",
    "    def __init__(self, d, t):\n",
    "        My_Date.__init__(self,d)\n",
    "        My_Time.__init__(self,t)\n",
    "        \n",
    "c = Date_Time('12 PM','13.03.2013')\n",
    "c.printDate()\n",
    "c.printTime()"
   ]
  },
  {
   "cell_type": "code",
   "execution_count": null,
   "metadata": {},
   "outputs": [],
   "source": []
  }
 ],
 "metadata": {
  "kernelspec": {
   "display_name": "Python 3",
   "language": "python",
   "name": "python3"
  },
  "language_info": {
   "codemirror_mode": {
    "name": "ipython",
    "version": 3
   },
   "file_extension": ".py",
   "mimetype": "text/x-python",
   "name": "python",
   "nbconvert_exporter": "python",
   "pygments_lexer": "ipython3",
   "version": "3.7.3"
  }
 },
 "nbformat": 4,
 "nbformat_minor": 2
}
