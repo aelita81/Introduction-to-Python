{
 "cells": [
  {
   "cell_type": "markdown",
   "metadata": {},
   "source": [
    "# Functions"
   ]
  },
  {
   "cell_type": "code",
   "execution_count": 15,
   "metadata": {},
   "outputs": [
    {
     "ename": "NameError",
     "evalue": "name 'mean' is not defined",
     "output_type": "error",
     "traceback": [
      "\u001b[1;31m---------------------------------------------------------------------------\u001b[0m",
      "\u001b[1;31mNameError\u001b[0m                                 Traceback (most recent call last)",
      "\u001b[1;32m<ipython-input-15-5f4300b76a20>\u001b[0m in \u001b[0;36m<module>\u001b[1;34m\u001b[0m\n\u001b[0;32m      2\u001b[0m     \u001b[0mmean\u001b[0m \u001b[1;33m=\u001b[0m \u001b[1;33m(\u001b[0m\u001b[0ma\u001b[0m \u001b[1;33m+\u001b[0m \u001b[0mb\u001b[0m \u001b[1;33m+\u001b[0m \u001b[0mc\u001b[0m\u001b[1;33m)\u001b[0m \u001b[1;33m/\u001b[0m\u001b[1;36m3\u001b[0m\u001b[1;33m\u001b[0m\u001b[1;33m\u001b[0m\u001b[0m\n\u001b[0;32m      3\u001b[0m \u001b[1;33m\u001b[0m\u001b[0m\n\u001b[1;32m----> 4\u001b[1;33m \u001b[0mprint\u001b[0m\u001b[1;33m(\u001b[0m\u001b[1;34m\"The average is: \"\u001b[0m\u001b[1;33m,\u001b[0m \u001b[0mmean\u001b[0m\u001b[1;33m(\u001b[0m\u001b[1;36m8\u001b[0m\u001b[1;33m,\u001b[0m \u001b[1;36m3\u001b[0m\u001b[1;33m,\u001b[0m \u001b[1;36m45\u001b[0m\u001b[1;33m)\u001b[0m\u001b[1;33m)\u001b[0m\u001b[1;33m\u001b[0m\u001b[1;33m\u001b[0m\u001b[0m\n\u001b[0m",
      "\u001b[1;31mNameError\u001b[0m: name 'mean' is not defined"
     ]
    }
   ],
   "source": [
    "def Average(a, b, c): \n",
    "    mean = (a + b + c) /3\n",
    "    \n",
    "print(\"The average is: \", Av(8, 3, 45)) "
   ]
  },
  {
   "cell_type": "code",
   "execution_count": 5,
   "metadata": {},
   "outputs": [
    {
     "name": "stdout",
     "output_type": "stream",
     "text": [
      "[16, 2, 100, 64]\n"
     ]
    }
   ],
   "source": [
    "def even_in_list(list):\n",
    "    even_num = []\n",
    "    for n in list:\n",
    "        if n % 2 == 0:\n",
    "            even_num.append(n)\n",
    "    return even_num\n",
    "print(even_in_list([5,16, 2, 100, 15, 59, 64, 47, 1089]))"
   ]
  },
  {
   "cell_type": "code",
   "execution_count": 15,
   "metadata": {},
   "outputs": [
    {
     "name": "stdout",
     "output_type": "stream",
     "text": [
      "[16, 2, 100, 64]\n"
     ]
    }
   ],
   "source": [
    "def even_in_list(list):\n",
    "    return [x for x in list if x % 2 == 0]\n",
    "    \n",
    "print(even_in_list([5,16, 2, 100, 15, 59, 64, 47, 1089]))"
   ]
  },
  {
   "cell_type": "code",
   "execution_count": 85,
   "metadata": {},
   "outputs": [
    {
     "data": {
      "text/plain": [
       "True"
      ]
     },
     "execution_count": 85,
     "metadata": {},
     "output_type": "execute_result"
    }
   ],
   "source": [
    "def password(password):\n",
    "     if isinstance(password,str):\n",
    "              if len(password)>=10 and sum(x.isdigit() for x in password)>=2:\n",
    "                return True\n",
    "                \n",
    "password(\"shantaram48\")"
   ]
  },
  {
   "cell_type": "code",
   "execution_count": 82,
   "metadata": {},
   "outputs": [
    {
     "name": "stdout",
     "output_type": "stream",
     "text": [
      "George Welcome to our company!\n"
     ]
    }
   ],
   "source": [
    "def greeting(name, greeting=\"Welcome to our company!\"):\n",
    "    print(name, greeting)\n",
    "    \n",
    "greeting(\"George\")"
   ]
  },
  {
   "cell_type": "code",
   "execution_count": 93,
   "metadata": {},
   "outputs": [
    {
     "ename": "IndentationError",
     "evalue": "unexpected indent (<ipython-input-93-c5858d5e6cef>, line 4)",
     "output_type": "error",
     "traceback": [
      "\u001b[1;36m  File \u001b[1;32m\"<ipython-input-93-c5858d5e6cef>\"\u001b[1;36m, line \u001b[1;32m4\u001b[0m\n\u001b[1;33m    if len(args)>=1:\u001b[0m\n\u001b[1;37m    ^\u001b[0m\n\u001b[1;31mIndentationError\u001b[0m\u001b[1;31m:\u001b[0m unexpected indent\n"
     ]
    }
   ],
   "source": [
    "def grade(name, *args):\n",
    "    def Average(args): \n",
    "        return sum(args) / len(args) \n",
    "            if len(args)>=1:\n",
    "\n",
    "            print(name + \"your average grade is\" + Average(args))\n",
    "            else:\n",
    "        print(\"No grades available for \" + name)\n",
    "        \n",
    "name = \"Poghos\"\n",
    "grade(name,8,20)\n",
    "grade(name)"
   ]
  },
  {
   "cell_type": "code",
   "execution_count": 115,
   "metadata": {},
   "outputs": [
    {
     "ename": "NameError",
     "evalue": "name 'admin' is not defined",
     "output_type": "error",
     "traceback": [
      "\u001b[1;31m---------------------------------------------------------------------------\u001b[0m",
      "\u001b[1;31mNameError\u001b[0m                                 Traceback (most recent call last)",
      "\u001b[1;32m<ipython-input-115-a826ebb9b91e>\u001b[0m in \u001b[0;36m<module>\u001b[1;34m\u001b[0m\n\u001b[0;32m      7\u001b[0m \u001b[1;33m\u001b[0m\u001b[0m\n\u001b[0;32m      8\u001b[0m \u001b[0muser\u001b[0m \u001b[1;33m=\u001b[0m \u001b[1;34m\"admin\"\u001b[0m\u001b[1;33m\u001b[0m\u001b[1;33m\u001b[0m\u001b[0m\n\u001b[1;32m----> 9\u001b[1;33m \u001b[0madmin\u001b[0m\u001b[1;33m(\u001b[0m\u001b[0muser\u001b[0m\u001b[1;33m,\u001b[0m \u001b[0mname\u001b[0m \u001b[1;33m=\u001b[0m \u001b[1;34m\"Poghos\"\u001b[0m\u001b[1;33m,\u001b[0m \u001b[0mtest\u001b[0m\u001b[1;33m=\u001b[0m \u001b[1;36m10\u001b[0m\u001b[1;33m)\u001b[0m\u001b[1;33m\u001b[0m\u001b[1;33m\u001b[0m\u001b[0m\n\u001b[0m\u001b[0;32m     10\u001b[0m \u001b[0muser\u001b[0m \u001b[1;33m=\u001b[0m \u001b[1;34m\"hey\"\u001b[0m\u001b[1;33m\u001b[0m\u001b[1;33m\u001b[0m\u001b[0m\n\u001b[0;32m     11\u001b[0m \u001b[0madmin_access\u001b[0m\u001b[1;33m(\u001b[0m\u001b[0muser\u001b[0m\u001b[1;33m,\u001b[0m \u001b[0mname\u001b[0m \u001b[1;33m=\u001b[0m \u001b[1;34m\"hey\"\u001b[0m\u001b[1;33m,\u001b[0m \u001b[0mtest\u001b[0m \u001b[1;33m=\u001b[0m \u001b[1;36m10\u001b[0m\u001b[1;33m)\u001b[0m\u001b[1;33m\u001b[0m\u001b[1;33m\u001b[0m\u001b[0m\n",
      "\u001b[1;31mNameError\u001b[0m: name 'admin' is not defined"
     ]
    }
   ],
   "source": [
    "def access(user, **kwargs):\n",
    "    if user == \"admin\":\n",
    "        for key, value in kwargs.items():\n",
    "            print(\"key: \", key, \"value: \", value)\n",
    "    else:\n",
    "        print(\"access denied to the user \" + user)\n",
    "    \n",
    "user = \"admin\"\n",
    "admin(user, name = \"Poghos\", test= 10)\n",
    "user = \"hey\"\n",
    "admin_access(user, name = \"hey\", test = 10)"
   ]
  },
  {
   "cell_type": "markdown",
   "metadata": {},
   "source": [
    "# Decorators"
   ]
  },
  {
   "cell_type": "code",
   "execution_count": 122,
   "metadata": {},
   "outputs": [
    {
     "name": "stdout",
     "output_type": "stream",
     "text": [
      "['Anna', 'Edgar']\n",
      "['Anna', 'Edgar', 'Poghos', 'a', 'book']\n"
     ]
    }
   ],
   "source": [
    "list1 = [\"Anna\", \"Edgar\"]\n",
    "list2 = [\"Anna\", \"Poghos\", \"a\", \"book\"]\n",
    "\n",
    "def decor(fn):\n",
    "    def wrapped(*args, **kwargs):       \n",
    "        print (list1)\n",
    "        print (fn(*args, **kwargs))\n",
    "    return wrapped\n",
    "\n",
    "@decor\n",
    "def add_values(list2):\n",
    "    return list1+[x for x in list2 if x not in list1]\n",
    "\n",
    "add_values (list2)\n"
   ]
  },
  {
   "cell_type": "code",
   "execution_count": 1,
   "metadata": {},
   "outputs": [
    {
     "name": "stdout",
     "output_type": "stream",
     "text": [
      "hi everyone!!! Welcome to the party\n"
     ]
    }
   ],
   "source": [
    "def lowerc(fn):\n",
    "    def wrapped(*args, **kwargs):       \n",
    "        return fn().lower()\n",
    "    return wrapped\n",
    "\n",
    "def add_text(fn):\n",
    "    def wrapped(*args, **kwargs):\n",
    "        return (fn(*args, **kwargs) + \"!!! Welcome to the party\")\n",
    "    return wrapped\n",
    "\n",
    "@add_text\n",
    "@lowerc\n",
    "def hello():\n",
    "    return \"HI EVERYONE\"\n",
    "\n",
    "print (hello())"
   ]
  },
  {
   "cell_type": "markdown",
   "metadata": {},
   "source": [
    "# Generators "
   ]
  },
  {
   "cell_type": "code",
   "execution_count": 132,
   "metadata": {},
   "outputs": [
    {
     "name": "stdout",
     "output_type": "stream",
     "text": [
      "<generator object list_func at 0x00000258AE9F0A20>\n"
     ]
    }
   ],
   "source": [
    "list1=[5, 8, 30, \"a\"]\n",
    "def list_func(list1):\n",
    "     for i in list1:\n",
    "        yield i\n",
    "\n",
    "num=list_func(list1)\n",
    "print (num)"
   ]
  },
  {
   "cell_type": "code",
   "execution_count": 133,
   "metadata": {},
   "outputs": [
    {
     "data": {
      "text/plain": [
       "5"
      ]
     },
     "execution_count": 133,
     "metadata": {},
     "output_type": "execute_result"
    }
   ],
   "source": [
    "next(num)"
   ]
  },
  {
   "cell_type": "code",
   "execution_count": 139,
   "metadata": {},
   "outputs": [
    {
     "name": "stdout",
     "output_type": "stream",
     "text": [
      "<generator object iter_num at 0x00000258AEA3B318>\n"
     ]
    }
   ],
   "source": [
    "def iter_num(n):\n",
    "    for i in range (1,n):\n",
    "        yield i\n",
    "        \n",
    "my_num = iter_num(12)\n",
    "print (my_num)"
   ]
  },
  {
   "cell_type": "code",
   "execution_count": 142,
   "metadata": {},
   "outputs": [
    {
     "data": {
      "text/plain": [
       "2"
      ]
     },
     "execution_count": 142,
     "metadata": {},
     "output_type": "execute_result"
    }
   ],
   "source": [
    "next (my_num)"
   ]
  },
  {
   "cell_type": "code",
   "execution_count": 150,
   "metadata": {},
   "outputs": [
    {
     "name": "stdout",
     "output_type": "stream",
     "text": [
      "<generator object powermax at 0x00000258AEA3B408>\n"
     ]
    }
   ],
   "source": [
    "def powermax(n):\n",
    "    for i in range (0,n):\n",
    "        yield 2**i\n",
    "        \n",
    "my_num = powermax(10)\n",
    "print (my_num)"
   ]
  },
  {
   "cell_type": "code",
   "execution_count": 154,
   "metadata": {},
   "outputs": [
    {
     "data": {
      "text/plain": [
       "8"
      ]
     },
     "execution_count": 154,
     "metadata": {},
     "output_type": "execute_result"
    }
   ],
   "source": [
    "next(my_num)"
   ]
  }
 ],
 "metadata": {
  "kernelspec": {
   "display_name": "Python 3",
   "language": "python",
   "name": "python3"
  },
  "language_info": {
   "codemirror_mode": {
    "name": "ipython",
    "version": 3
   },
   "file_extension": ".py",
   "mimetype": "text/x-python",
   "name": "python",
   "nbconvert_exporter": "python",
   "pygments_lexer": "ipython3",
   "version": "3.7.3"
  }
 },
 "nbformat": 4,
 "nbformat_minor": 2
}
