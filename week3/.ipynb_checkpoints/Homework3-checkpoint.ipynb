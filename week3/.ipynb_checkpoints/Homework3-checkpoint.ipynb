{
 "cells": [
  {
   "cell_type": "code",
   "execution_count": 16,
   "metadata": {},
   "outputs": [
    {
     "name": "stdout",
     "output_type": "stream",
     "text": [
      "[1, 4, 5, 7, 8, -2, 0, -1]\n",
      "7\n",
      "-2\n"
     ]
    }
   ],
   "source": [
    "a = [1, 4, 5, 7, 8, -2, 0, -1]\n",
    "print(a)\n",
    "print (a[3]) \n",
    "print(a[5])\n"
   ]
  },
  {
   "cell_type": "code",
   "execution_count": 21,
   "metadata": {},
   "outputs": [
    {
     "name": "stdout",
     "output_type": "stream",
     "text": [
      "old list:  [1, 4, 5, 7, 8, -2, 0, -1]\n",
      "new list:  [8, 7, 5, 4, 1, 0, -1, -2]\n"
     ]
    }
   ],
   "source": [
    "a = [1, 4, 5, 7, 8, -2, 0, -1]\n",
    "a_sorted = a.copy()\n",
    "a_sorted.sort(reverse = True)\n",
    "print('old list: ', a)\n",
    "print('new list: ', a_sorted)\n"
   ]
  },
  {
   "cell_type": "code",
   "execution_count": 30,
   "metadata": {},
   "outputs": [
    {
     "name": "stdout",
     "output_type": "stream",
     "text": [
      "[7, 1]\n",
      "[1, 0, -1, -2]\n"
     ]
    }
   ],
   "source": [
    "print(a_sorted[1:3])\n",
    "print (a_sorted[2:6])"
   ]
  },
  {
   "cell_type": "code",
   "execution_count": 22,
   "metadata": {},
   "outputs": [
    {
     "name": "stdout",
     "output_type": "stream",
     "text": [
      "[8, 7, 5, 4, 1, 0, -1, -2]\n",
      "[8, 7, 1, 0, -1, -2]\n"
     ]
    }
   ],
   "source": [
    "print(a_sorted)\n",
    "a_sorted.pop(3)\n",
    "a_sorted.pop(2)\n",
    "print(a_sorted)"
   ]
  },
  {
   "cell_type": "code",
   "execution_count": 25,
   "metadata": {},
   "outputs": [
    {
     "name": "stdout",
     "output_type": "stream",
     "text": [
      "old list:  ['grapes', 'Potatoes', 'tomatoes', 'Orange', 'Lemon', 'Broccoli', 'Carrot', 'Sausages']\n",
      "new list:  ['Broccoli', 'Carrot', 'Lemon', 'Orange', 'Potatoes', 'Sausages', 'grapes', 'tomatoes']\n"
     ]
    }
   ],
   "source": [
    "b = ['grapes', 'Potatoes', 'tomatoes', 'Orange', 'Lemon', 'Broccoli', 'Carrot', 'Sausages']\n",
    "b_sorted = b.copy()\n",
    "b_sorted.sort()\n",
    "print('old list: ', b)\n",
    "print('new list: ', b_sorted)\n"
   ]
  },
  {
   "cell_type": "code",
   "execution_count": 16,
   "metadata": {},
   "outputs": [
    {
     "name": "stdout",
     "output_type": "stream",
     "text": [
      "[4, 5, 'Lemon', 'Broccoli']\n"
     ]
    }
   ],
   "source": [
    "a = [1, 4, 5, 7, 8, -2, 0, -1]\n",
    "b = ['grapes', 'Potatoes', 'tomatoes', 'Orange', 'Lemon', 'Broccoli', 'Carrot', 'Sausages']\n",
    "c = a[1:3] + b[4:6]\n",
    "print (c)"
   ]
  },
  {
   "cell_type": "code",
   "execution_count": 17,
   "metadata": {},
   "outputs": [],
   "source": [
    "a1 = ['Cookies', 'Chocolate', 8, True, -3, -5, 'Chocolate', 8, False, 8]\n",
    "b1 = [8, True, 10, 14, 'Chocolate', 'Milk', 'Jelly', True, False, True]"
   ]
  },
  {
   "cell_type": "code",
   "execution_count": 18,
   "metadata": {},
   "outputs": [],
   "source": [
    "set_a = set(a1)\n",
    "set_b = set(b1)"
   ]
  },
  {
   "cell_type": "code",
   "execution_count": 21,
   "metadata": {},
   "outputs": [
    {
     "name": "stdout",
     "output_type": "stream",
     "text": [
      "set_a: {False, True, 8, 'Chocolate', 'Cookies', -5, -3}\n",
      "set_b: {False, True, 8, 'Chocolate', 10, 14, 'Milk', 'Jelly'}\n",
      "{False, True, 8, 'Chocolate', 'Cookies', 10, 14, 'Milk', -5, 'Jelly', -3}\n"
     ]
    }
   ],
   "source": [
    "print('set_a:', set_a)\n",
    "print('set_b:', set_b)\n",
    "union_ab = set_a.union(set_b)\n",
    "print (union_ab)"
   ]
  },
  {
   "cell_type": "code",
   "execution_count": 19,
   "metadata": {},
   "outputs": [
    {
     "name": "stdout",
     "output_type": "stream",
     "text": [
      "set_a: {False, True, 8, 'Chocolate', 'Cookies', -5, -3}\n",
      "set_b: {False, True, 8, 'Chocolate', 10, 14, 'Milk', 'Jelly'}\n",
      "{False, True, 'Chocolate', 8}\n"
     ]
    }
   ],
   "source": [
    "print('set_a:', set_a)\n",
    "print('set_b:', set_b)\n",
    "intersection_ab = set_a.intersection(set_b)\n",
    "print (intersection_ab)"
   ]
  },
  {
   "cell_type": "code",
   "execution_count": 22,
   "metadata": {},
   "outputs": [
    {
     "name": "stdout",
     "output_type": "stream",
     "text": [
      "{False, True, 'Kitkat', 8, 'Chocolate', 'Cookies', 10, 14, 'Milk', 'Oreo', -5, 'Jelly', -3}\n"
     ]
    }
   ],
   "source": [
    "union_ab.add('Kitkat')\n",
    "union_ab.add('Oreo')\n",
    "print (union_ab)"
   ]
  },
  {
   "cell_type": "code",
   "execution_count": 23,
   "metadata": {},
   "outputs": [
    {
     "name": "stdout",
     "output_type": "stream",
     "text": [
      "union_ab:  {False, True, 'Kitkat', 8, 'Chocolate', 'Cookies', 10, 14, 'Milk', 'Oreo', -5, 'Jelly', -3}\n",
      "intersection_ab:  {False, True, 'Chocolate', 8}\n",
      "{False, True, 'Kitkat', 8, 'Chocolate', 'Cookies', 10, 14, 'Milk', 'Oreo', -5, 'Jelly', -3}\n"
     ]
    }
   ],
   "source": [
    "print('union_ab: ', union_ab)\n",
    "print('intersection_ab: ', intersection_ab)\n",
    "new_set = union_ab | intersection_ab\n",
    "print (new_set)"
   ]
  },
  {
   "cell_type": "code",
   "execution_count": 24,
   "metadata": {},
   "outputs": [
    {
     "name": "stdout",
     "output_type": "stream",
     "text": [
      "new_set:  {False, True, 'Kitkat', 8, 'Chocolate', 'Cookies', 10, 14, 'Milk', 'Oreo', -5, 'Jelly', -3}\n"
     ]
    },
    {
     "data": {
      "text/plain": [
       "True"
      ]
     },
     "execution_count": 24,
     "metadata": {},
     "output_type": "execute_result"
    }
   ],
   "source": [
    "print('new_set: ', new_set)\n",
    "'Chocolate' in new_set"
   ]
  },
  {
   "cell_type": "code",
   "execution_count": 26,
   "metadata": {},
   "outputs": [
    {
     "name": "stdout",
     "output_type": "stream",
     "text": [
      "new_set: {False, True, 'Kitkat', 8, 'Chocolate', 'Cookies', 10, 14, 'Milk', 'Oreo', -5, 'Jelly', -3}\n",
      "{False, True, 'Kitkat', 8, 'Chocolate', 'Cookies', 10, 14, 'Milk', -5, 'Jelly', -3}\n"
     ]
    }
   ],
   "source": [
    "print(\"new_set:\", new_set)\n",
    "new_set.remove(\"Oreo\")\n",
    "print (new_set)"
   ]
  },
  {
   "cell_type": "code",
   "execution_count": 60,
   "metadata": {},
   "outputs": [],
   "source": [
    "t1 = (1, True, 'a', -2, 'Anna')"
   ]
  },
  {
   "cell_type": "code",
   "execution_count": 51,
   "metadata": {},
   "outputs": [
    {
     "name": "stdout",
     "output_type": "stream",
     "text": [
      "(1, True, 'a', -2, 'Anna')\n",
      "(1, 'a', -2, 'Anna')\n"
     ]
    }
   ],
   "source": [
    "t1 = (1, True, 'a', -2, 'Anna')\n",
    "print (t1)\n",
    "t1 = t1[:1] + t1[2:]\n",
    "print(t1)\n"
   ]
  },
  {
   "cell_type": "code",
   "execution_count": 77,
   "metadata": {},
   "outputs": [
    {
     "name": "stdout",
     "output_type": "stream",
     "text": [
      "(1, True, 1, 2, 3)\n"
     ]
    }
   ],
   "source": [
    "t1 = (1, True, 'a', -2, 'Anna')\n",
    "t2 = (1, 2, 3, 4, 5)\n",
    "t3 = t1[:2] + t2[:3]\n",
    "print (t3)"
   ]
  },
  {
   "cell_type": "code",
   "execution_count": 78,
   "metadata": {},
   "outputs": [
    {
     "data": {
      "text/plain": [
       "1"
      ]
     },
     "execution_count": 78,
     "metadata": {},
     "output_type": "execute_result"
    }
   ],
   "source": [
    "t3[2]"
   ]
  },
  {
   "cell_type": "code",
   "execution_count": 84,
   "metadata": {},
   "outputs": [
    {
     "name": "stdout",
     "output_type": "stream",
     "text": [
      "3\n"
     ]
    }
   ],
   "source": [
    "list = [(1,3,5), (8,9), ('Anna', 'Bob', 'Alice')]\n",
    "\n",
    "print(list[0][1])"
   ]
  },
  {
   "cell_type": "code",
   "execution_count": 6,
   "metadata": {},
   "outputs": [
    {
     "name": "stdout",
     "output_type": "stream",
     "text": [
      "{'dairy': ['yogurt', 'cheese'], 'fruits': ['banana', 'apple', 'orange', 'lemon', 'apple', 'banana', 'banana'], 'candies': ['mars', 'kinder', 'twix']}\n"
     ]
    },
    {
     "data": {
      "text/plain": [
       "{'apple', 'banana', 'lemon', 'orange'}"
      ]
     },
     "execution_count": 6,
     "metadata": {},
     "output_type": "execute_result"
    }
   ],
   "source": [
    "market = {\"dairy\": [\"yogurt\", \"cheese\"], \"fruits\": [\"banana\", \"apple\", \"orange\", \"lemon\", \"apple\", \"banana\", \"banana\"]}\n",
    "d = {\"candies\": [\"mars\", \"kinder\", \"twix\"]}\n",
    "d\n",
    "market.update(d)\n",
    "print (market)\n",
    "market_new=market.copy()\n",
    "market_new['fruits'].sort()\n",
    "set1=set(market_new['fruits'])\n",
    "market_new['fruits']=set1\n",
    "set1"
   ]
  },
  {
   "cell_type": "code",
   "execution_count": null,
   "metadata": {},
   "outputs": [],
   "source": []
  }
 ],
 "metadata": {
  "kernelspec": {
   "display_name": "Python 3",
   "language": "python",
   "name": "python3"
  },
  "language_info": {
   "codemirror_mode": {
    "name": "ipython",
    "version": 3
   },
   "file_extension": ".py",
   "mimetype": "text/x-python",
   "name": "python",
   "nbconvert_exporter": "python",
   "pygments_lexer": "ipython3",
   "version": "3.7.3"
  }
 },
 "nbformat": 4,
 "nbformat_minor": 2
}
